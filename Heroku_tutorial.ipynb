{
  "nbformat": 4,
  "nbformat_minor": 0,
  "metadata": {
    "colab": {
      "name": "Heroku_tutorial.ipynb",
      "provenance": [],
      "collapsed_sections": []
    },
    "kernelspec": {
      "name": "python3",
      "display_name": "Python 3"
    }
  },
  "cells": [
    {
      "cell_type": "markdown",
      "metadata": {
        "id": "FpeZ8dsWY0Wz",
        "colab_type": "text"
      },
      "source": [
        "# **Huraku**\n",
        "Note: Huraku work with git."
      ]
    },
    {
      "cell_type": "markdown",
      "metadata": {
        "id": "_-IO8bV3ZKrr",
        "colab_type": "text"
      },
      "source": [
        "## [1.Creating Heroku account](https://signup.heroku.com/identity)\n",
        "\n",
        "\n",
        "\n"
      ]
    },
    {
      "cell_type": "markdown",
      "metadata": {
        "id": "mrI2rZLiTfIw",
        "colab_type": "text"
      },
      "source": [
        "# **Two way of working heroku**"
      ]
    },
    {
      "cell_type": "markdown",
      "metadata": {
        "id": "fIknF9KCm5lO",
        "colab_type": "text"
      },
      "source": [
        "## **From heroku website**"
      ]
    },
    {
      "cell_type": "markdown",
      "metadata": {
        "id": "HoKBw5y8IdPn",
        "colab_type": "text"
      },
      "source": [
        "### **1. Create project with cookiecutter project structure(analyze with mlflow) and flask   and also virtual environment in project file structure**\n"
      ]
    },
    {
      "cell_type": "markdown",
      "metadata": {
        "id": "ac4H1pvLK_qo",
        "colab_type": "text"
      },
      "source": [
        "### **2.Heroku**"
      ]
    },
    {
      "cell_type": "markdown",
      "metadata": {
        "id": "Kw1Em4b3LEtU",
        "colab_type": "text"
      },
      "source": [
        "A. Create **Procfile** file in our project(project ko sabai vanda bahira rakhni)from where heroku start to execute. In Procfile we put this code: "
      ]
    },
    {
      "cell_type": "markdown",
      "metadata": {
        "id": "0ES7xe4dP94g",
        "colab_type": "text"
      },
      "source": [
        "    web: gunicorn app:app\n",
        "\n",
        "app:app means first app mean heroku start from app.py file and second app means inside app.py file heroku call app() function."
      ]
    },
    {
      "cell_type": "markdown",
      "metadata": {
        "id": "zzylFLeiRhOa",
        "colab_type": "text"
      },
      "source": [
        "B. Create **requirements**  file which help to rquirements for this project(heroku lai vanni ki mero project ko lagi yo yo kura chini ho so install gardenu vanyara)"
      ]
    },
    {
      "cell_type": "markdown",
      "metadata": {
        "id": "5spafUQeSLwI",
        "colab_type": "text"
      },
      "source": [
        "    pip freeze -l > requirements.txt"
      ]
    },
    {
      "cell_type": "markdown",
      "metadata": {
        "id": "zIQcSDF2K6jc",
        "colab_type": "text"
      },
      "source": [
        "### **3. Push this project in github.**"
      ]
    },
    {
      "cell_type": "markdown",
      "metadata": {
        "id": "ZrZPwbDBU6Iv",
        "colab_type": "text"
      },
      "source": [
        "### 4.Go to heroku website>create new app>connect with github\n",
        "* Automatic deployment.\n",
        "* manual deployment(best)\n",
        "\n",
        "Then heroku automatically start to install all dependencies in requrements file.\n",
        "\n",
        "* view our app.\n",
        "\n"
      ]
    },
    {
      "cell_type": "markdown",
      "metadata": {
        "id": "_S-8GrWITnaD",
        "colab_type": "text"
      },
      "source": [
        "## **From  heroku CLI(mathiko method bata kai mistake vayo or website ma kai error aya yo method follow garni ok)**"
      ]
    },
    {
      "cell_type": "markdown",
      "metadata": {
        "id": "pCzayBGtaAZL",
        "colab_type": "text"
      },
      "source": [
        "### [1.Installing the Heroku CLI](https://devcenter.heroku.com/articles/heroku-cli)\n",
        "\n",
        "* Install heroku cLI in local machine and login huraku remote account in local machine.\n",
        "\n",
        "* Note: curl https://cli-assets.heroku.com/install.sh | sh       <br>\n",
        "This command is work for kali linux.\n",
        "\n"
      ]
    },
    {
      "cell_type": "markdown",
      "metadata": {
        "id": "Vtbh2aUuhdqw",
        "colab_type": "text"
      },
      "source": [
        "### **2.Hekau login**"
      ]
    },
    {
      "cell_type": "markdown",
      "metadata": {
        "id": "nqoej5eemCsq",
        "colab_type": "text"
      },
      "source": [
        "    heroku login"
      ]
    },
    {
      "cell_type": "markdown",
      "metadata": {
        "id": "54rr3jqRmNk7",
        "colab_type": "text"
      },
      "source": [
        "* If you’d prefer to stay in the CLI to enter your credentials, you may run \n",
        "\n",
        "\n",
        "    heroku login -i\n"
      ]
    },
    {
      "cell_type": "markdown",
      "metadata": {
        "id": "EEKPFCqrXGXW",
        "colab_type": "text"
      },
      "source": [
        "Note: yadi git bata connect garyara error ako vaya yaha bata log herni.\n",
        "\n",
        "    heroku logs --app appname"
      ]
    },
    {
      "cell_type": "markdown",
      "metadata": {
        "id": "cZNo0b0YmpKW",
        "colab_type": "text"
      },
      "source": [
        "### **3. Create your first app in herkou**\n",
        "\n"
      ]
    },
    {
      "cell_type": "markdown",
      "metadata": {
        "id": "L4iI9cNUtKnI",
        "colab_type": "text"
      },
      "source": [
        "**I.From website.**\n",
        "\n",
        "When create you application there is all given CLI for your app.\n"
      ]
    },
    {
      "cell_type": "markdown",
      "metadata": {
        "id": "7dRBNmTZtNI9",
        "colab_type": "text"
      },
      "source": [
        "**II. From CLI local machine.**"
      ]
    },
    {
      "cell_type": "markdown",
      "metadata": {
        "id": "hk1eg6KemxD5",
        "colab_type": "text"
      },
      "source": [
        "    cd ~/myapp\n",
        "\n",
        "    heroku create"
      ]
    },
    {
      "cell_type": "markdown",
      "metadata": {
        "id": "wkD-VzoO13Bt",
        "colab_type": "text"
      },
      "source": [
        "### **4.Create a new Git repository**"
      ]
    },
    {
      "cell_type": "markdown",
      "metadata": {
        "id": "YmJoZ-sj2HwX",
        "colab_type": "text"
      },
      "source": [
        "**I.Initialize a git repository in a new or existing directory**"
      ]
    },
    {
      "cell_type": "markdown",
      "metadata": {
        "id": "mnrFL6sZ2P8h",
        "colab_type": "text"
      },
      "source": [
        "    cd my-project/\n",
        "    git init\n",
        "    heroku git:remote -a detectionemotion"
      ]
    },
    {
      "cell_type": "markdown",
      "metadata": {
        "id": "m5jrh-ac2a84",
        "colab_type": "text"
      },
      "source": [
        "**II. Existing Git repository**\n",
        "\n",
        "For existing repositories, simply add the heroku remote"
      ]
    },
    {
      "cell_type": "markdown",
      "metadata": {
        "id": "TzBvwSwo2lPI",
        "colab_type": "text"
      },
      "source": [
        "    heroku git:remote -a detectionemotion"
      ]
    },
    {
      "cell_type": "markdown",
      "metadata": {
        "id": "52f29y9m2rKt",
        "colab_type": "text"
      },
      "source": [
        "### **5.Deploy your application(first git ma push hunxa project then heroku ma janxa)**\n",
        "\n",
        "Commit your code to the repository and deploy it to Heroku using Git."
      ]
    },
    {
      "cell_type": "markdown",
      "metadata": {
        "id": "ssf7RxmJ3Q_w",
        "colab_type": "text"
      },
      "source": [
        "    git add .\n",
        "    git commit -am \"make it better\"\n",
        "    git push heroku master"
      ]
    }
  ]
}